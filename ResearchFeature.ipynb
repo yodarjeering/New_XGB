{
 "cells": [
  {
   "cell_type": "markdown",
   "id": "a1bbedb4-399e-4c95-a9bd-f8653999ad1a",
   "metadata": {},
   "source": [
    "# import Library"
   ]
  },
  {
   "cell_type": "code",
   "execution_count": 1,
   "id": "fe8e0446-8dd4-4933-91fc-c0178688bb65",
   "metadata": {
    "tags": []
   },
   "outputs": [],
   "source": [
    "import sys\n",
    "\n",
    "sys.path.append('../')\n",
    "from my_library.library import *\n",
    "from hyperopt import hp, tpe, Trials, fmin,STATUS_OK\n",
    "from my_library.funcs import *\n",
    "\n",
    "\n"
   ]
  },
  {
   "cell_type": "markdown",
   "id": "cd332098-8954-4a15-9e8f-0d379ed0e2a7",
   "metadata": {},
   "source": [
    "# path ubu"
   ]
  },
  {
   "cell_type": "code",
   "execution_count": null,
   "id": "ef960622-cf70-40ed-b893-aaaed713ea7a",
   "metadata": {},
   "outputs": [],
   "source": [
    "path_daw = '/home/hipro/デスクトップ/StockPriceData/Stock_index/DAW_10years.csv'\n",
    "path_tpx = '/home/hipro/デスクトップ/StockPriceData/Stock_index/TOPIX_10years.csv'\n"
   ]
  },
  {
   "cell_type": "markdown",
   "id": "67de8fd4-a3da-45b9-814a-69a49e467c3b",
   "metadata": {},
   "source": [
    "# path mac"
   ]
  },
  {
   "cell_type": "code",
   "execution_count": 2,
   "id": "867f1471-2e5a-4be2-9b6b-40e2d4291cd2",
   "metadata": {
    "tags": []
   },
   "outputs": [],
   "source": [
    "path_tpx = '/Users/rince/Desktop/StockPriceData/Stock_index/TOPIX_10years.csv'\n",
    "path_225 = '/Users/rince/Desktop/StockPriceData/Stock_index/NK225_10years.csv'\n",
    "path_daw = '/Users/rince/Desktop/StockPriceData/Stock_index/DAW_10years.csv'\n",
    "path_bear = '/Users/rince/Desktop/StockPriceData/Stock_index/R225BEAR_10years.csv'\n",
    "path_doll = '/Users/rince/Desktop/StockPriceData/Stock_index/doll_yen_bid.csv'\n",
    "\n",
    "\n",
    "path_gold = '/Users/rince/Desktop/StockPriceData/Stock_index/gold_chusin.csv'\n",
    "path_kawase = '/Users/rince/Desktop/StockPriceData/Stock_index/quote.csv'"
   ]
  },
  {
   "cell_type": "markdown",
   "id": "fc97456b-d953-45fc-be22-94ab1d0c2272",
   "metadata": {},
   "source": [
    "# path win"
   ]
  },
  {
   "cell_type": "code",
   "execution_count": null,
   "id": "6f9fa313-39f1-4353-ad15-7830c4b4b0aa",
   "metadata": {},
   "outputs": [],
   "source": [
    "path_tpx = '/Users/Owner/Desktop/StockPriceData/Stock_index/TOPIX_10years.csv'\n",
    "path_225 = '/Users/Owner/Desktop/StockPriceData/Stock_index/NK225_10years.csv'\n",
    "path_daw = '/Users/Owner/Desktop/StockPriceData/Stock_index/DAW_10years.csv'\n",
    "path_bear = '/Users/Owner/Desktop/StockPriceData/Stock_index/R225BEAR_10years.csv'\n",
    "\n",
    "path_tpx_sim = '/Users/Owner/Desktop/StockPriceData/TOPIX/TOPIX_20211208.csv'\n",
    "path_daw_sim = '/Users/Owner/Desktop/StockPriceData/DAW/DAW_20211208.csv'"
   ]
  },
  {
   "cell_type": "markdown",
   "id": "222c2a02",
   "metadata": {},
   "source": [
    "# Learn XGB"
   ]
  },
  {
   "cell_type": "code",
   "execution_count": null,
   "id": "e4dbf24a-4f16-42b3-aa97-2bcb9ea5133f",
   "metadata": {},
   "outputs": [],
   "source": [
    "lx = LearnXGB(num_class=3)\n",
    "lx.learn_xgb(path_tpx,path_daw)"
   ]
  },
  {
   "cell_type": "markdown",
   "id": "e840f2b9",
   "metadata": {},
   "source": [
    "# index 投信 "
   ]
  },
  {
   "cell_type": "code",
   "execution_count": null,
   "id": "5b254b99",
   "metadata": {},
   "outputs": [],
   "source": [
    "tps = TPXSimulation()\n",
    "tps.simulate(path_tpx,path_daw,start_year=2022,end_year=2022,start_month=1,end_month=12)\n",
    "pr = tps.return_profit_rate()"
   ]
  },
  {
   "cell_type": "markdown",
   "id": "679c1058",
   "metadata": {},
   "source": [
    "# DAW simulte"
   ]
  },
  {
   "cell_type": "code",
   "execution_count": null,
   "id": "c554f821",
   "metadata": {},
   "outputs": [],
   "source": [
    "path_tpx_sim, path_daw_sim = return_latest_data_path('TOPIX')\n",
    "ds = DawSimulation()\n",
    "ds.simulate(path_tpx,path_daw,strategy='reverse',start_year=2021,end_year=2021,start_month=1,end_month=12)\n"
   ]
  },
  {
   "cell_type": "markdown",
   "id": "dff1673d",
   "metadata": {},
   "source": [
    "# Random simulate"
   ]
  },
  {
   "cell_type": "code",
   "execution_count": null,
   "id": "c85b0374",
   "metadata": {},
   "outputs": [],
   "source": [
    "path_tpx_sim, path_daw_sim = return_latest_data_path('TOPIX')\n",
    "rs = RandomSimulation()\n",
    "rs.simulate(path_tpx_sim,path_daw_sim,start_year=2022,end_year=2022,start_month=1,end_month=5)"
   ]
  },
  {
   "cell_type": "markdown",
   "id": "d29d5419",
   "metadata": {},
   "source": [
    "# Technical simulate"
   ]
  },
  {
   "cell_type": "code",
   "execution_count": null,
   "id": "d50a125d",
   "metadata": {},
   "outputs": [],
   "source": [
    "ts = TechnicalSimulation()\n",
    "plt.grid()\n",
    "ts.simulate(path_tpx,path_daw,start_year=2021,end_year=2021,start_month=1,end_month=12)\n",
    "pr_log_ts = ts.pr_log"
   ]
  },
  {
   "cell_type": "markdown",
   "id": "f1b77ad7-b633-4603-b3f8-08bfffde98ac",
   "metadata": {},
   "source": [
    "# predict tomorrow"
   ]
  },
  {
   "cell_type": "code",
   "execution_count": null,
   "id": "37cc4276",
   "metadata": {},
   "outputs": [],
   "source": [
    "path_tpx_sim, path_daw_sim = return_latest_data_path('TOPIX')\n",
    "lx.predict_tomorrow(path_tpx_sim,path_daw_sim,alpha=0.6,strategy='normal',start_year=2022,start_month=1,end_month=6,is_observed=True)"
   ]
  },
  {
   "cell_type": "markdown",
   "id": "abe022a3",
   "metadata": {},
   "source": [
    "# フーリエ解析"
   ]
  },
  {
   "cell_type": "markdown",
   "id": "e6736af1",
   "metadata": {},
   "source": [
    "# 各スペクトラムの代表ベクトル作成"
   ]
  },
  {
   "cell_type": "markdown",
   "id": "96f22cf7",
   "metadata": {},
   "source": [
    "#  Sim データリークしないように気をつけて"
   ]
  },
  {
   "cell_type": "markdown",
   "id": "3c9e9267",
   "metadata": {},
   "source": [
    "例) \\\n",
    "x[100] -> normal good \\\n",
    "実際にsim するのは z[120]あたり"
   ]
  },
  {
   "cell_type": "markdown",
   "id": "36e07fde",
   "metadata": {},
   "source": [
    "# FFT Simulation new\n",
    "is_abs = True"
   ]
  },
  {
   "cell_type": "code",
   "execution_count": 3,
   "id": "696d4e11",
   "metadata": {},
   "outputs": [],
   "source": [
    "save_path = '/Users/rince/Desktop/Sotsuron/code/pickles/ffs_dict_good.pickle'\n",
    "ffs_tmp = load_pickle(save_path)"
   ]
  },
  {
   "cell_type": "code",
   "execution_count": 80,
   "id": "302fa47a",
   "metadata": {},
   "outputs": [],
   "source": [
    "# # lx = LearnXGB(num_class=3)\n",
    "# # lx.learn_xgb(path_tpx,path_daw,test_rate=0.7)\n",
    "# lx = ffs_tmp.lx\n",
    "# lc_dummy = LearnClustering()\n",
    "# df_con = lc_dummy.make_df_con(path_tpx,path_daw)\n",
    "# df_con = df_con[df_con.index.year<=2019]\n",
    "# df_con = df_con[df_con.index.year>=2018]\n",
    "# x_,z_ = lc_dummy.make_x_data(df_con['close'],stride=1,test_rate=1.0)\n",
    "# length = len(z_)\n",
    "# table_dict = {i : [] for i in range(lc_dummy.n_cluster)}\n",
    "# Value_list = []\n",
    "# alphas = [0.33]\n",
    "# # n_cluster = 5\n",
    "# log_dict = {}\n",
    "# ffs_dict = {}\n",
    "# alpha = 0.33\n",
    "# # for n_cluster in [7,12,14,16]:\n",
    "# for i in range(length):\n",
    "#     for strategy in ['normal','reverse']:\n",
    "#         try:\n",
    "#             # alpha = 0.33\n",
    "#             xl = XGBSimulation2(lx,alpha=alpha)\n",
    "#             xl.simulate(path_tpx,path_daw,strategy=strategy,is_validate=True,start_year=2018,end_year=2019,df_=z_[i])\n",
    "            \n",
    "#             trade_log =  xl.trade_log\n",
    "#             total_profit = trade_log['total_profit'].values[0]\n",
    "#             stock_wave = z_[i]\n",
    "#             vt = ValueTable(strategy,alpha,total_profit,trade_log,stock_wave)\n",
    "#             Value_list.append(vt)\n",
    "#         except:\n",
    "#             continue\n",
    "\n",
    "# ---------\n",
    "save_path = '/Users/rince/Desktop/Sotsuron/code/pickles/Value_list.pickle'\n",
    "Value_list =  load_pickle(save_path)\n",
    "Value_good = sorted(Value_list,key=lambda x :x[2],reverse=True)\n",
    "Value_bad = sorted(Value_list,key=lambda x :x[2],reverse=False)\n",
    "ng = []\n",
    "rg = []\n",
    "nb = []\n",
    "rb = []\n",
    "\n",
    "for v in Value_good:\n",
    "    if v.total_profit<=0:break\n",
    "\n",
    "    df = v.stock_wave\n",
    "    strategy = v.strategy\n",
    "    # print(df)\n",
    "    # break\n",
    "    if strategy==\"normal\":\n",
    "        ng.append(standarize(df))\n",
    "    else:\n",
    "        rg.append(standarize(df))\n",
    "\n",
    "\n",
    "for v in Value_bad:\n",
    "    if v.total_profit>=0 :break\n",
    "\n",
    "    df = v.stock_wave\n",
    "    strategy = v.strategy\n",
    "\n",
    "    if strategy==\"normal\":\n",
    "        nb.append(standarize(df))\n",
    "    else:\n",
    "        rb.append(standarize(df))\n",
    "\n",
    "x_ng = make_easy_x(ng)\n",
    "x_nb = make_easy_x(nb)\n",
    "x_rg = make_easy_x(rg)\n",
    "x_rb = make_easy_x(rb)\n",
    "\n",
    "\n"
   ]
  },
  {
   "cell_type": "code",
   "execution_count": 31,
   "id": "67d6be01",
   "metadata": {},
   "outputs": [
    {
     "data": {
      "text/plain": [
       "array([[<AxesSubplot:title={'center':'profit'}>]], dtype=object)"
      ]
     },
     "execution_count": 31,
     "metadata": {},
     "output_type": "execute_result"
    },
    {
     "data": {
      "image/png": "[encoded data removed]",
      "text/plain": [
       "<Figure size 432x288 with 1 Axes>"
      ]
     },
     "metadata": {
      "needs_background": "light"
     },
     "output_type": "display_data"
    }
   ],
   "source": [
    "profit_list = []\n",
    "for vl in Value_good:\n",
    "    if vl.strategy=='reverse':\n",
    "        profit_list.append(vl.total_profit)\n",
    "    \n",
    "profit_df = pd.DataFrame({'profit':profit_list})\n",
    "# plt.xlabel('profit')\n",
    "profit_df.hist(bins=20)\n",
    "    "
   ]
  },
  {
   "cell_type": "code",
   "execution_count": 68,
   "id": "b741d74a",
   "metadata": {},
   "outputs": [],
   "source": [
    "n_cluster=3\n",
    "random_state=0\n",
    "lc_rg = LearnClustering(n_cluster=n_cluster,random_state=random_state)\n",
    "lc_rg.learn_clustering3(x_rg)\n",
    "lc_rb = LearnClustering(n_cluster=n_cluster,random_state=random_state)\n",
    "lc_rb.learn_clustering3(x_rb)\n",
    "lc_ng = LearnClustering(n_cluster=n_cluster,random_state=random_state)\n",
    "lc_ng.learn_clustering3(x_ng)\n",
    "lc_nb = LearnClustering(n_cluster=n_cluster,random_state=random_state)\n",
    "lc_nb.learn_clustering3(x_nb)"
   ]
  },
  {
   "cell_type": "code",
   "execution_count": 70,
   "id": "85db9594",
   "metadata": {},
   "outputs": [],
   "source": [
    "ex_good = wave_dict[1]\n"
   ]
  },
  {
   "cell_type": "code",
   "execution_count": 72,
   "id": "059c9103",
   "metadata": {},
   "outputs": [],
   "source": [
    "ex_bad = wave_dict[0]"
   ]
  },
  {
   "cell_type": "code",
   "execution_count": 74,
   "id": "c48d39d9",
   "metadata": {},
   "outputs": [
    {
     "data": {
      "text/plain": [
       "[<matplotlib.lines.Line2D at 0x7fc886840710>]"
      ]
     },
     "execution_count": 74,
     "metadata": {},
     "output_type": "execute_result"
    },
    {
     "data": {
      "image/png": "[encoded data removed]",
      "text/plain": [
       "<Figure size 432x288 with 1 Axes>"
      ]
     },
     "metadata": {
      "needs_background": "light"
     },
     "output_type": "display_data"
    }
   ],
   "source": [
    "plt.clf()\n",
    "plt.plot(ex_good)\n",
    "plt.plot(ex_bad)"
   ]
  },
  {
   "cell_type": "code",
   "execution_count": 76,
   "id": "d72e8b01",
   "metadata": {},
   "outputs": [],
   "source": [
    "vecg = make_spectrum(ex_good,is_abs=True)\n",
    "vecb = make_spectrum(ex_bad,is_abs=True)"
   ]
  },
  {
   "cell_type": "code",
   "execution_count": 79,
   "id": "470f3528",
   "metadata": {},
   "outputs": [
    {
     "data": {
      "text/plain": [
       "0.9967198742191453"
      ]
     },
     "execution_count": 79,
     "metadata": {},
     "output_type": "execute_result"
    }
   ],
   "source": [
    "cos_sim(vecg,vecb)"
   ]
  },
  {
   "cell_type": "code",
   "execution_count": 71,
   "id": "2f0d5627",
   "metadata": {},
   "outputs": [
    {
     "name": "stdout",
     "output_type": "stream",
     "text": [
      "-------------\n",
      "count\n"
     ]
    },
    {
     "name": "stderr",
     "output_type": "stream",
     "text": [
      "No handles with labels found to put in legend.\n"
     ]
    },
    {
     "data": {
      "text/plain": [
       "<Figure size 432x288 with 0 Axes>"
      ]
     },
     "metadata": {},
     "output_type": "display_data"
    },
    {
     "data": {
      "image/png": "[encoded data removed]",
      "text/plain": [
       "<Figure size 576x360 with 1 Axes>"
      ]
     },
     "metadata": {
      "needs_background": "light"
     },
     "output_type": "display_data"
    },
    {
     "name": "stdout",
     "output_type": "stream",
     "text": [
      "-------------\n",
      "count\n"
     ]
    },
    {
     "name": "stderr",
     "output_type": "stream",
     "text": [
      "No handles with labels found to put in legend.\n"
     ]
    },
    {
     "data": {
      "text/plain": [
       "<Figure size 432x288 with 0 Axes>"
      ]
     },
     "metadata": {},
     "output_type": "display_data"
    },
    {
     "data": {
      "image/png": "[encoded data removed]",
      "text/plain": [
       "<Figure size 576x360 with 1 Axes>"
      ]
     },
     "metadata": {
      "needs_background": "light"
     },
     "output_type": "display_data"
    },
    {
     "name": "stdout",
     "output_type": "stream",
     "text": [
      "-------------\n",
      "count\n"
     ]
    },
    {
     "name": "stderr",
     "output_type": "stream",
     "text": [
      "No handles with labels found to put in legend.\n"
     ]
    },
    {
     "data": {
      "text/plain": [
       "<Figure size 432x288 with 0 Axes>"
      ]
     },
     "metadata": {},
     "output_type": "display_data"
    },
    {
     "data": {
      "image/png": "[encoded data removed]",
      "text/plain": [
       "<Figure size 576x360 with 1 Axes>"
      ]
     },
     "metadata": {
      "needs_background": "light"
     },
     "output_type": "display_data"
    }
   ],
   "source": [
    "lc = lc_nb\n",
    "lis_ = lc.model.labels_.tolist()\n",
    "wave_dict =  lc.wave_dict\n",
    "denom = len(lis_)\n",
    "\n",
    "for i in range(n_cluster):\n",
    "    print(\"-------------\")\n",
    "    # print(lis_.count(i))\n",
    "    plt.clf()\n",
    "    _, ax = plt.subplots(figsize=(8, 5))\n",
    "    print(\"count\",)\n",
    "    plt.plot(wave_dict[i])\n",
    "    plt.xlabel(\"class :\"+str(i)+'  {:.2f}'.format(lis_.count(i)*100/denom)+'%')\n",
    "    plt.grid()\n",
    "    plt.legend()\n",
    "    plt.show()\n",
    "    "
   ]
  },
  {
   "cell_type": "markdown",
   "id": "13a0f292",
   "metadata": {},
   "source": [
    "#  最適クラスタ数を調査"
   ]
  },
  {
   "cell_type": "code",
   "execution_count": 82,
   "id": "02ec113f",
   "metadata": {},
   "outputs": [
    {
     "name": "stdout",
     "output_type": "stream",
     "text": [
      "   total_profit  trade_count  max_profit  min_profit  mean_profit  \\\n",
      "1         -81.0           25        81.0       -49.0        -3.24   \n",
      "\n",
      "   cant_buy_count  \n",
      "1               0  \n",
      "\n",
      "    score  Up precision  Stay precision  Down precision  Up recall  \\\n",
      "0  0.5375      0.542373        0.552239        0.489362   0.492308   \n",
      "\n",
      "   Stay recall  Down recall  up_num  stay_num  down_num  \n",
      "0     0.621849     0.410714    65.0     119.0      56.0  \n",
      "\n",
      "trigger_count : 0\n"
     ]
    },
    {
     "data": {
      "text/plain": [
       "<Figure size 432x288 with 0 Axes>"
      ]
     },
     "metadata": {},
     "output_type": "display_data"
    },
    {
     "data": {
      "image/png": "[encoded data removed]",
      "text/plain": [
       "<Figure size 720x432 with 1 Axes>"
      ]
     },
     "metadata": {
      "needs_background": "light"
     },
     "output_type": "display_data"
    }
   ],
   "source": [
    "is_abs=True\n",
    "log_dict = {}\n",
    "cs_dict = {}\n",
    "ffs_dict = {}\n",
    "\n",
    "# lx_ = LearnXGB(num_class=3)\n",
    "# lx_.learn_xgb(path_tpx,path_daw,test_rate=0.8,param_dist=param_dist)\n",
    "random_state=0\n",
    "save_path= '/Users/rince/Desktop/Sotsuron/code/pickles/ffs_dict_good.pickle'\n",
    "# save_pickle(save_path,ffs_)\n",
    "ffs_good = load_pickle(save_path)\n",
    "alpha = 0.33\n",
    "for n_cluster in [3]:\n",
    "        \n",
    "    Fstrategies = []\n",
    "    Cstrategies = []\n",
    "    lc_rg = LearnClustering(n_cluster=n_cluster,random_state=random_state)\n",
    "    lc_rg.learn_clustering3(x_rg)\n",
    "    lc_rb = LearnClustering(n_cluster=n_cluster,random_state=random_state)\n",
    "    lc_rb.learn_clustering3(x_rb)\n",
    "    lc_ng = LearnClustering(n_cluster=n_cluster,random_state=random_state)\n",
    "    lc_ng.learn_clustering3(x_ng)\n",
    "    lc_nb = LearnClustering(n_cluster=n_cluster,random_state=random_state)\n",
    "    lc_nb.learn_clustering3(x_nb)\n",
    "\n",
    "    strategy_list = ['normal','stay','reverse','stay']\n",
    "\n",
    "    j=0\n",
    "    for lc in [lc_ng,lc_nb,lc_rg,lc_rb]:\n",
    "        \n",
    "        for _,key in enumerate(lc.wave_dict):\n",
    "            wave = lc.wave_dict[key]\n",
    "            spe = make_spectrum(wave,is_abs=is_abs)\n",
    "            strategy = strategy_list[j]\n",
    "            fs  = Fstrategy(strategy,alpha,spe)\n",
    "            cs = Fstrategy(strategy,alpha,wave)\n",
    "            Fstrategies.append(fs)\n",
    "            Cstrategies.append(cs)\n",
    "        j+=1\n",
    "\n",
    "\n",
    "    # cs_ = ClusterSimulation(lx_,Cstrategies)\n",
    "    # cs_.simulate(path_tpx,path_daw,start_year=2019,end_year=2021,is_validate=True)\n",
    "    ffs = FFTSimulation(ffs_good.lx,Fstrategies,is_abs=is_abs)\n",
    "    ffs.simulate(path_tpx,path_daw,start_year=2019,end_year=2019,is_validate=False)\n",
    "    trade_log = ffs.trade_log\n",
    "    # trade_log = cs_.trade_log\n",
    "    log_dict[n_cluster] = trade_log\n",
    "    # cs_dict[n_cluster] = cs_\n",
    "    ffs_dict[n_cluster] = ffs"
   ]
  },
  {
   "cell_type": "code",
   "execution_count": 37,
   "id": "d995884f",
   "metadata": {},
   "outputs": [
    {
     "name": "stdout",
     "output_type": "stream",
     "text": [
      "---------\n",
      "1\n",
      "   total_profit  trade_count  max_profit  min_profit  mean_profit  \\\n",
      "1         307.5           53        81.0       -61.0     5.801887   \n",
      "\n",
      "   cant_buy_count  \n",
      "1               0  \n"
     ]
    }
   ],
   "source": [
    "for _, key in enumerate(log_dict):\n",
    "    print(\"---------\")\n",
    "    print(key)\n",
    "    trade_log = log_dict[key]\n",
    "    print(trade_log)"
   ]
  },
  {
   "cell_type": "code",
   "execution_count": null,
   "id": "50c021df",
   "metadata": {},
   "outputs": [],
   "source": [
    "save_path= '/Users/rince/Desktop/Sotsuron/code/pickles/ffs_dict_good.pickle'\n",
    "# save_pickle(save_path,ffs_)\n",
    "ffs_good = load_pickle(save_path)"
   ]
  },
  {
   "cell_type": "code",
   "execution_count": null,
   "id": "35dcc188",
   "metadata": {},
   "outputs": [],
   "source": [
    "# ffs_tmp1[1].is_abs=False\n",
    "# ffs_ = ffs_dict[16]\n",
    "for year in [2019,2020,2021]:\n",
    "    ffs_good.simulate(path_tpx,path_daw,start_year=year,end_year=year,is_validate=False)\n",
    "    # print(ffs_good.trade_log)\n"
   ]
  },
  {
   "cell_type": "markdown",
   "id": "6a21c68d",
   "metadata": {},
   "source": [
    "# 業種別　解析"
   ]
  },
  {
   "cell_type": "code",
   "execution_count": 23,
   "id": "0a8f07e9",
   "metadata": {},
   "outputs": [],
   "source": [
    "df_dict,FILE = get_gyosyu_df()"
   ]
  },
  {
   "cell_type": "code",
   "execution_count": 30,
   "id": "6e7400bd",
   "metadata": {},
   "outputs": [
    {
     "name": "stdout",
     "output_type": "stream",
     "text": [
      "------------\n",
      "SUISAN_NOURINGYO\n",
      "      score  Up precision  Stay precision  Down precision  Up recall  \\\n",
      "0  0.441379      0.432526        0.361111        0.507812   0.545852   \n",
      "\n",
      "   Stay recall  Down recall  up_num  stay_num  down_num  \n",
      "0     0.290179     0.477941   229.0     224.0     272.0  \n",
      "------------\n",
      "JOUHOU_TSUUSIN\n",
      "      score  Up precision  Stay precision  Down precision  Up recall  \\\n",
      "0  0.415172      0.458182        0.406593        0.376866   0.506024   \n",
      "\n",
      "   Stay recall  Down recall  up_num  stay_num  down_num  \n",
      "0     0.298387     0.442982   249.0     248.0     228.0  \n",
      "------------\n",
      "GINKOU\n",
      "      score  Up precision  Stay precision  Down precision  Up recall  \\\n",
      "0  0.463448      0.439863        0.402174           0.536   0.587156   \n",
      "\n",
      "   Stay recall  Down recall  up_num  stay_num  down_num  \n",
      "0     0.308333     0.501873   218.0     240.0     267.0  \n",
      "------------\n",
      "KENSETSU\n",
      "      score  Up precision  Stay precision  Down precision  Up recall  \\\n",
      "0  0.428966      0.459016        0.380952        0.456731   0.489083   \n",
      "\n",
      "   Stay recall  Down recall  up_num  stay_num  down_num  \n",
      "0     0.422764         0.38   229.0     246.0     250.0  \n",
      "------------\n",
      "SONOTAKINYUU\n",
      "      score  Up precision  Stay precision  Down precision  Up recall  \\\n",
      "0  0.467586      0.501779        0.359091         0.53125   0.555118   \n",
      "\n",
      "   Stay recall  Down recall  up_num  stay_num  down_num  \n",
      "0     0.372642     0.459459   254.0     212.0     259.0  \n",
      "------------\n",
      "DENKIKIKI\n",
      "      score  Up precision  Stay precision  Down precision  Up recall  \\\n",
      "0  0.497931          0.56        0.434146        0.481633   0.568266   \n",
      "\n",
      "   Stay recall  Down recall  up_num  stay_num  down_num  \n",
      "0     0.406393     0.502128   271.0     219.0     235.0  \n",
      "------------\n",
      "KOURI\n",
      "      score  Up precision  Stay precision  Down precision  Up recall  \\\n",
      "0  0.441379      0.452489        0.411765        0.469767   0.460829   \n",
      "\n",
      "   Stay recall  Down recall  up_num  stay_num  down_num  \n",
      "0     0.440741      0.42437   217.0     270.0     238.0  \n",
      "------------\n",
      "KAIUN\n",
      "      score  Up precision  Stay precision  Down precision  Up recall  \\\n",
      "0  0.511724      0.532086        0.278689        0.534483   0.644013   \n",
      "\n",
      "   Stay recall  Down recall  up_num  stay_num  down_num  \n",
      "0     0.138211      0.52901   309.0     123.0     293.0  \n",
      "------------\n",
      "GOMU\n",
      "      score  Up precision  Stay precision  Down precision  Up recall  \\\n",
      "0  0.448276      0.463816        0.350515        0.462963   0.589958   \n",
      "\n",
      "   Stay recall  Down recall  up_num  stay_num  down_num  \n",
      "0     0.157407     0.555556   239.0     216.0     270.0  \n",
      "------------\n",
      "GARAS_DOSEKI\n",
      "      score  Up precision  Stay precision  Down precision  Up recall  \\\n",
      "0  0.464828      0.513011        0.377119             0.5   0.558704   \n",
      "\n",
      "   Stay recall  Down recall  up_num  stay_num  down_num  \n",
      "0     0.412037     0.419847   247.0     216.0     262.0  \n",
      "------------\n",
      "SYOUKEN_SAKIMONO\n",
      "      score  Up precision  Stay precision  Down precision  Up recall  \\\n",
      "0  0.468966      0.484277        0.328571        0.524345   0.608696   \n",
      "\n",
      "   Stay recall  Down recall  up_num  stay_num  down_num  \n",
      "0     0.232323     0.510949   253.0     198.0     274.0  \n",
      "------------\n",
      "TEKKOU\n",
      "      score  Up precision  Stay precision  Down precision  Up recall  \\\n",
      "0  0.485517      0.486957        0.324324        0.550186   0.638783   \n",
      "\n",
      "   Stay recall  Down recall  up_num  stay_num  down_num  \n",
      "0     0.233766     0.480519   263.0     154.0     308.0  \n",
      "------------\n",
      "KUUUN\n",
      "      score  Up precision  Stay precision  Down precision  Up recall  \\\n",
      "0  0.462069       0.40176        0.423423        0.553114    0.57563   \n",
      "\n",
      "   Stay recall  Down recall  up_num  stay_num  down_num  \n",
      "0     0.241026     0.517123   238.0     195.0     292.0  \n",
      "------------\n",
      "SYOKURYO\n",
      "      score  Up precision  Stay precision  Down precision  Up recall  \\\n",
      "0  0.451034      0.408889            0.47            0.47   0.457711   \n",
      "\n",
      "   Stay recall  Down recall  up_num  stay_num  down_num  \n",
      "0     0.487889          0.4   201.0     289.0     235.0  \n",
      "------------\n",
      "KIKAI\n",
      "      score  Up precision  Stay precision  Down precision  Up recall  \\\n",
      "0  0.427586      0.452962        0.282051        0.514403   0.501931   \n",
      "\n",
      "   Stay recall  Down recall  up_num  stay_num  down_num  \n",
      "0     0.261905     0.488281   259.0     210.0     256.0  \n",
      "------------\n",
      "KINZOKU\n",
      "     score  Up precision  Stay precision  Down precision  Up recall  \\\n",
      "0  0.45931      0.468401        0.387755        0.530806   0.514286   \n",
      "\n",
      "   Stay recall  Down recall  up_num  stay_num  down_num  \n",
      "0     0.429864     0.432432   245.0     221.0     259.0  \n",
      "------------\n",
      "SONOTA_SEIHIN\n",
      "      score  Up precision  Stay precision  Down precision  Up recall  \\\n",
      "0  0.422069      0.444805        0.418803             0.4   0.524904   \n",
      "\n",
      "   Stay recall  Down recall  up_num  stay_num  down_num  \n",
      "0     0.224771     0.487805   261.0     218.0     246.0  \n",
      "------------\n",
      "PARUPU_KAMI\n",
      "      score  Up precision  Stay precision  Down precision  Up recall  \\\n",
      "0  0.431724      0.434921        0.309859        0.492537   0.568465   \n",
      "\n",
      "   Stay recall  Down recall  up_num  stay_num  down_num  \n",
      "0     0.214634     0.473118   241.0     205.0     279.0  \n",
      "------------\n",
      "HIKINZOKU\n",
      "      score  Up precision  Stay precision  Down precision  Up recall  \\\n",
      "0  0.482759      0.524272        0.278409        0.579167   0.597786   \n",
      "\n",
      "   Stay recall  Down recall  up_num  stay_num  down_num  \n",
      "0     0.293413     0.484321   271.0     167.0     287.0  \n",
      "------------\n",
      "YUSOUYOUKIKI\n",
      "      score  Up precision  Stay precision  Down precision  Up recall  \\\n",
      "0  0.449655      0.444444        0.398374        0.477352   0.571429   \n",
      "\n",
      "   Stay recall  Down recall  up_num  stay_num  down_num  \n",
      "0     0.213974     0.545817   245.0     229.0     251.0  \n",
      "------------\n",
      "SEKIYU_SEKITAN\n",
      "      score  Up precision  Stay precision  Down precision  Up recall  \\\n",
      "0  0.453793      0.482877        0.329032        0.492806      0.564   \n",
      "\n",
      "   Stay recall  Down recall  up_num  stay_num  down_num  \n",
      "0     0.253731          0.5   250.0     201.0     274.0  \n",
      "------------\n",
      "SOUKO_UNYU\n",
      "      score  Up precision  Stay precision  Down precision  Up recall  \\\n",
      "0  0.441379      0.484496        0.385892        0.451327   0.520833   \n",
      "\n",
      "   Stay recall  Down recall  up_num  stay_num  down_num  \n",
      "0     0.402597     0.401575   240.0     231.0     254.0  \n",
      "------------\n",
      "KOUGYO\n",
      "      score  Up precision  Stay precision  Down precision  Up recall  \\\n",
      "0  0.485517           0.5        0.194805        0.545139   0.636042   \n",
      "\n",
      "   Stay recall  Down recall  up_num  stay_num  down_num  \n",
      "0      0.11194      0.50974   283.0     134.0     308.0  \n",
      "------------\n",
      "HUDOUSAN\n",
      "      score  Up precision  Stay precision  Down precision  Up recall  \\\n",
      "0  0.464828      0.455516         0.41784        0.519481   0.518219   \n",
      "\n",
      "   Stay recall  Down recall  up_num  stay_num  down_num  \n",
      "0     0.438424     0.436364   247.0     203.0     275.0  \n",
      "------------\n",
      "SERVICE\n",
      "   score  Up precision  Stay precision  Down precision  Up recall  \\\n",
      "0   0.48       0.47037        0.486111        0.485356   0.520492   \n",
      "\n",
      "   Stay recall  Down recall  up_num  stay_num  down_num  \n",
      "0     0.426829     0.493617   244.0     246.0     235.0  \n",
      "------------\n",
      "DENKI_GASS\n",
      "      score  Up precision  Stay precision  Down precision  Up recall  \\\n",
      "0  0.377931      0.362745        0.365854        0.403922   0.513889   \n",
      "\n",
      "   Stay recall  Down recall  up_num  stay_num  down_num  \n",
      "0         0.25       0.3829   216.0     240.0     269.0  \n",
      "------------\n",
      "OROSIURI\n",
      "      score  Up precision  Stay precision  Down precision  Up recall  \\\n",
      "0  0.464828      0.512821         0.41806        0.479167   0.512821   \n",
      "\n",
      "   Stay recall  Down recall  up_num  stay_num  down_num  \n",
      "0     0.473485     0.405286   234.0     264.0     227.0  \n",
      "------------\n",
      "RIKUUN\n",
      "      score  Up precision  Stay precision  Down precision  Up recall  \\\n",
      "0  0.470345      0.440273        0.431507        0.520979   0.573333   \n",
      "\n",
      "   Stay recall  Down recall  up_num  stay_num  down_num  \n",
      "0      0.29717     0.517361   225.0     212.0     288.0  \n",
      "------------\n",
      "SENI\n",
      "     score  Up precision  Stay precision  Down precision  Up recall  \\\n",
      "0  0.46069      0.457746        0.399061         0.52193   0.580357   \n",
      "\n",
      "   Stay recall  Down recall  up_num  stay_num  down_num  \n",
      "0     0.357143     0.452471   224.0     238.0     263.0  \n",
      "------------\n",
      "HOKEN\n",
      "      score  Up precision  Stay precision  Down precision  Up recall  \\\n",
      "0  0.453793      0.490909        0.363636        0.502283    0.54878   \n",
      "\n",
      "   Stay recall  Down recall  up_num  stay_num  down_num  \n",
      "0     0.383562     0.423077   246.0     219.0     260.0  \n",
      "------------\n",
      "SEIMITSUKIKI\n",
      "      score  Up precision  Stay precision  Down precision  Up recall  \\\n",
      "0  0.426207      0.464706        0.344262        0.414449   0.587361   \n",
      "\n",
      "   Stay recall  Down recall  up_num  stay_num  down_num  \n",
      "0     0.199052     0.444898   269.0     211.0     245.0  \n",
      "------------\n",
      "IYAKUHIN\n",
      "      score  Up precision  Stay precision  Down precision  Up recall  \\\n",
      "0  0.394483      0.385714        0.356589        0.417722   0.469565   \n",
      "\n",
      "   Stay recall  Down recall  up_num  stay_num  down_num  \n",
      "0     0.187755        0.528   230.0     245.0     250.0  \n",
      "------------\n",
      "KAGAKU\n",
      "      score  Up precision  Stay precision  Down precision  Up recall  \\\n",
      "0  0.478621      0.543307        0.413223        0.475983   0.560976   \n",
      "\n",
      "   Stay recall  Down recall  up_num  stay_num  down_num  \n",
      "0      0.42735     0.444898   246.0     234.0     245.0  \n"
     ]
    }
   ],
   "source": [
    "for i,key in enumerate(df_dict):\n",
    "    xs = XGBSimulation2(lx)\n",
    "    xs.simulate(FILE[i],path_daw,start_year=2019,is_validate=True)\n",
    "    print(\"------------\")\n",
    "    print(key)\n",
    "    print(xs.accuracy_df)"
   ]
  },
  {
   "cell_type": "code",
   "execution_count": null,
   "id": "558d07dd",
   "metadata": {},
   "outputs": [],
   "source": []
  }
 ],
 "metadata": {
  "kernelspec": {
   "display_name": "Python 3.7.2 64-bit",
   "language": "python",
   "name": "python3"
  },
  "language_info": {
   "codemirror_mode": {
    "name": "ipython",
    "version": 3
   },
   "file_extension": ".py",
   "mimetype": "text/x-python",
   "name": "python",
   "nbconvert_exporter": "python",
   "pygments_lexer": "ipython3",
   "version": "3.7.2"
  },
  "toc-autonumbering": true,
  "vscode": {
   "interpreter": {
    "hash": "aee8b7b246df8f9039afb4144a1f6fd8d2ca17a180786b69acc140d282b71a49"
   }
  }
 },
 "nbformat": 4,
 "nbformat_minor": 5
}
