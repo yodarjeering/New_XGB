{
 "cells": [
  {
   "cell_type": "markdown",
   "id": "4406420b-a25c-4a6a-aceb-d0dfdf87656b",
   "metadata": {},
   "source": [
    "# Import Library"
   ]
  },
  {
   "cell_type": "code",
   "execution_count": 3,
   "id": "1f15b44c-6313-42ce-8aef-c4a996e3151d",
   "metadata": {
    "jupyter": {
     "source_hidden": true
    },
    "tags": []
   },
   "outputs": [
    {
     "name": "stdout",
     "output_type": "stream",
     "text": [
      "INFO:tensorflow:Enabling eager execution\n",
      "INFO:tensorflow:Enabling v2 tensorshape\n",
      "INFO:tensorflow:Enabling resource variables\n",
      "INFO:tensorflow:Enabling tensor equality\n",
      "INFO:tensorflow:Enabling control flow v2\n"
     ]
    }
   ],
   "source": [
    "\n",
    "import time\n",
    "import glob\n",
    "import datetime\n",
    "import random\n",
    "import pickle\n",
    "import numpy as np\n",
    "import shutil\n",
    "import os\n",
    "import sklearn\n",
    "import pandas as pd\n",
    "import seaborn as sns\n",
    "import matplotlib.pyplot as plt\n",
    "np.random.seed(1) # (A)\n",
    "import keras.optimizers  # (B)\n",
    "from keras.models import Sequential # (C)\n",
    "from keras.layers.core import Dense, Activation #(D)\n",
    "from keras.layers.normalization import BatchNormalization\n",
    "from keras.utils.np_utils import to_categorical\n",
    "from decimal import *\n",
    "from keras.layers.recurrent import SimpleRNN, LSTM\n",
    "from sklearn import preprocessing\n",
    "from keras.utils.np_utils import to_categorical\n",
    "from keras.layers import Dense, Activation, Dropout\n",
    "from keras.callbacks import EarlyStopping\n",
    "from sklearn.metrics import confusion_matrix\n",
    "from sklearn import datasets\n",
    "from sklearn.svm import SVC\n",
    "from sklearn.svm import SVR\n",
    "from sklearn.model_selection import train_test_split,GridSearchCV\n",
    "from keras.layers import Embedding\n",
    "from keras.wrappers.scikit_learn import KerasClassifier\n",
    "import xgboost as xgb\n",
    "from sklearn.metrics import accuracy_score  \n",
    "from selenium import webdriver\n",
    "from selenium.webdriver.common.keys import Keys\n",
    "from selenium.webdriver.common.action_chains import ActionChains\n",
    "from tensorflow.python.keras.models import load_model\n",
    "import statsmodels.graphics.api as smg\n",
    "from statsmodels.graphics.tsaplots import plot_acf\n",
    "from scipy import stats\n",
    "from scipy.stats import f"
   ]
  },
  {
   "cell_type": "markdown",
   "id": "aa635950-943e-49d5-9694-596a29d7f400",
   "metadata": {},
   "source": [
    "# Make Train Data"
   ]
  },
  {
   "cell_type": "code",
   "execution_count": 24,
   "id": "55cf6389-d224-4042-87f0-a605b77dfb6b",
   "metadata": {},
   "outputs": [],
   "source": [
    "def make_data(daw_p,df,STRIDE):\n",
    "    num_var = 1 + STRIDE\n",
    "    RATE = 0.8\n",
    "    x_ = []\n",
    "    y_ = []\n",
    "    \n",
    "    df_con = pd.concat([daw_p,df],axis = 1,join='inner')\n",
    "    col_ = df_con.columns\n",
    "#     df_con=df_con.astype(float)\n",
    "    \n",
    "    for i in range(1+STRIDE,len(df_con)-1):\n",
    "        \n",
    "        li    = np.array([0.0 for i in range(num_var)])\n",
    "        for j in range(i-STRIDE,i):\n",
    "            li[j-i+STRIDE] = df_con.iloc[j,3]*100\n",
    "        li[-1] = df_con.index.weekday[i]\n",
    "        x_.append(li)\n",
    "        \n",
    "        if df_con.iloc[i+1,7] - df_con.iloc[i+1,4]>0:\n",
    "            y_.append([0,1])\n",
    "        else:\n",
    "            y_.append([1,0])\n",
    "    \n",
    "    return np.array(x_),np.array(y_)\n",
    "    \n",
    "    \n",
    "    \n",
    "    "
   ]
  },
  {
   "cell_type": "markdown",
   "id": "72f9ec19-a0ba-423f-ab4b-5715f621e916",
   "metadata": {},
   "source": [
    "# Load DF"
   ]
  },
  {
   "cell_type": "code",
   "execution_count": 5,
   "id": "b07ff76a-28cb-4dd8-94a5-f0ba16cb78d6",
   "metadata": {},
   "outputs": [],
   "source": [
    "def load_df(path_):\n",
    "\n",
    "    FILE = glob.glob(path_)\n",
    "    df = pd.read_csv(FILE[0])\n",
    "    df = df.rename(columns={df.columns[0]:'nan',df.columns[1]:'nan',df.columns[2]:'nan',\\\n",
    "                                df.columns[3]:'day',df.columns[4]:'nan',df.columns[5]:'dopen',\\\n",
    "                                df.columns[6]:'dhigh',df.columns[7]:'dlow',df.columns[8]:'dclose',\\\n",
    "                                   df.columns[9]:'nan',})\n",
    "\n",
    "    df = df.drop('nan',axis=1)\n",
    "    df = df.drop(df.index[0])\n",
    "    df['day'] = pd.to_datetime(df['day'],format='%Y/%m/%d')\n",
    "    df.set_index('day',inplace=True)\n",
    "    \n",
    "    return df.astype(float)"
   ]
  },
  {
   "cell_type": "code",
   "execution_count": 6,
   "id": "f274ee85-fd4c-4048-b97e-6fa8b68d451e",
   "metadata": {},
   "outputs": [],
   "source": [
    "path_ = '/Users/rince/Desktop/StockPriceData/Stock_index/DAW_10years.csv'\n",
    "\n",
    "df_daw = load_df(path_)\n",
    "daw_p = df_daw.pct_change()\n",
    "path2 = '/Users/rince/Desktop/StockPriceData/Stock_index/NFNK225_10years.csv'\n",
    "df_nf225 = load_df(path2)"
   ]
  },
  {
   "cell_type": "code",
   "execution_count": 25,
   "id": "1a7564e8-2e3c-45a8-a179-d3d8ce1acc8b",
   "metadata": {},
   "outputs": [],
   "source": [
    "x_,y_ = make_data(daw_p,df_nf225,STRIDE=5)"
   ]
  },
  {
   "cell_type": "code",
   "execution_count": 26,
   "id": "353caee1-f95f-4f9c-961b-611c6f5c45be",
   "metadata": {
    "tags": []
   },
   "outputs": [
    {
     "name": "stdout",
     "output_type": "stream",
     "text": [
      "1221\n",
      "1157\n"
     ]
    }
   ],
   "source": [
    "print(sum(y_[:,0]))\n",
    "print(sum(y_[:,1]))"
   ]
  },
  {
   "cell_type": "code",
   "execution_count": 27,
   "id": "b45eeaf2-e560-4058-98d2-cf2a8cc8c9de",
   "metadata": {},
   "outputs": [
    {
     "name": "stdout",
     "output_type": "stream",
     "text": [
      "(1902, 6)\n",
      "(1902,)\n"
     ]
    }
   ],
   "source": [
    "print(x_train.shape)\n",
    "print(y_train.shape)"
   ]
  },
  {
   "cell_type": "code",
   "execution_count": 28,
   "id": "7821b6af-b43a-45f6-b627-407ab3c8b759",
   "metadata": {},
   "outputs": [],
   "source": [
    "length = len(x_)\n",
    "RATE = int(0.8*length)\n",
    "\n",
    "x_train,y_train = x_[:RATE],y_[:RATE]\n",
    "x_test,y_test = x_[RATE:],y_[RATE:]\n",
    "x_train = x_train.reshape(x_train.shape[0],x_train.shape[1])\n",
    "x_test = x_test.reshape(x_test.shape[0],x_train.shape[1])\n",
    "y_train = np.argmax(y_train,axis=1)\n",
    "y_test = np.argmax(y_test,axis=1)"
   ]
  },
  {
   "cell_type": "markdown",
   "id": "b642d3f7-8cc4-4ddb-9637-f3e0ad78c1c1",
   "metadata": {},
   "source": [
    "# XGB predict"
   ]
  },
  {
   "cell_type": "code",
   "execution_count": 22,
   "id": "ddb6ae0c-347a-4888-bef3-76caac060021",
   "metadata": {},
   "outputs": [],
   "source": [
    "def xgb_pred(x_train,y_train,x_test,y_test):\n",
    "    dtrain = xgb.DMatrix(x_train, label=y_train)\n",
    "    param = {'eta': 0.09107858292565747, 'max_depth': 6, 'lambda': 0.9335155074430995, 'objective': 'multi:softmax', 'num_class': 3}  \n",
    "\n",
    "    num_round = 30\n",
    "    bst = xgb.train(param, dtrain,num_round)  \n",
    "#     bst = xgb.train(param, dtrain,num_round)  \n",
    "    # bst = xgb.train(dtrain)\n",
    "\n",
    "    dtest = xgb.DMatrix(x_test)  \n",
    "    pred = bst.predict(dtest)  \n",
    "\n",
    "    score = accuracy_score(y_test, pred)  \n",
    "    print('score:{0:.4f}'.format(score))  \n",
    "\n",
    "    #     xgb.plot_importance(bst)  \n",
    "\n",
    "    dtest = xgb.DMatrix(x_test)  \n",
    "    predict_classes = bst.predict(dtest)  \n",
    "\n",
    "    true_classes = y_test\n",
    "    plt.clf()\n",
    "    cmx = confusion_matrix(true_classes, predict_classes)\n",
    "    sns.heatmap(cmx, annot=True, fmt='g', square=True)\n",
    "    plt.show()\n",
    "    xgb.plot_importance(bst)  \n",
    "    plt.show()\n",
    "    \n",
    "    return bst"
   ]
  },
  {
   "cell_type": "code",
   "execution_count": 29,
   "id": "8f05e6ea-d324-4955-9f4a-33d80bd0acf8",
   "metadata": {},
   "outputs": [
    {
     "name": "stdout",
     "output_type": "stream",
     "text": [
      "[00:26:24] WARNING: /Users/travis/build/dmlc/xgboost/src/learner.cc:1095: Starting in XGBoost 1.3.0, the default evaluation metric used with the objective 'multi:softmax' was changed from 'merror' to 'mlogloss'. Explicitly set eval_metric if you'd like to restore the old behavior.\n",
      "score:0.5126\n"
     ]
    },
    {
     "data": {
      "image/png": "[encoded data removed]",
      "text/plain": [
       "<Figure size 432x288 with 2 Axes>"
      ]
     },
     "metadata": {
      "needs_background": "light"
     },
     "output_type": "display_data"
    },
    {
     "data": {
      "image/png": "[encoded data removed]",
      "text/plain": [
       "<Figure size 432x288 with 1 Axes>"
      ]
     },
     "metadata": {
      "needs_background": "light"
     },
     "output_type": "display_data"
    }
   ],
   "source": [
    "bst = xgb_pred(x_train,y_train,x_test,y_test)"
   ]
  },
  {
   "cell_type": "code",
   "execution_count": null,
   "id": "ea1e4e19-1aec-4be3-94bf-4cfa097c66c5",
   "metadata": {},
   "outputs": [],
   "source": []
  }
 ],
 "metadata": {
  "kernelspec": {
   "display_name": "Python 3",
   "language": "python",
   "name": "python3"
  },
  "language_info": {
   "codemirror_mode": {
    "name": "ipython",
    "version": 3
   },
   "file_extension": ".py",
   "mimetype": "text/x-python",
   "name": "python",
   "nbconvert_exporter": "python",
   "pygments_lexer": "ipython3",
   "version": "3.9.4"
  }
 },
 "nbformat": 4,
 "nbformat_minor": 5
}
